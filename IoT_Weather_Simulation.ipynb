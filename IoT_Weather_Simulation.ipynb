{
  "nbformat": 4,
  "nbformat_minor": 0,
  "metadata": {
    "colab": {
      "provenance": [],
      "authorship_tag": "ABX9TyMKLLjTpqjtB98HA1TZ9aoo",
      "include_colab_link": true
    },
    "kernelspec": {
      "name": "python3",
      "display_name": "Python 3"
    },
    "language_info": {
      "name": "python"
    }
  },
  "cells": [
    {
      "cell_type": "markdown",
      "metadata": {
        "id": "view-in-github",
        "colab_type": "text"
      },
      "source": [
        "<a href=\"https://colab.research.google.com/github/AmmarJamshed/IoT_Work/blob/main/IoT_Weather_Simulation.ipynb\" target=\"_parent\"><img src=\"https://colab.research.google.com/assets/colab-badge.svg\" alt=\"Open In Colab\"/></a>"
      ]
    },
    {
      "cell_type": "markdown",
      "source": [
        "#  Simulated Temperature Sensor"
      ],
      "metadata": {
        "id": "u-Zo984GGUwx"
      }
    },
    {
      "cell_type": "code",
      "source": [
        "import random\n",
        "import time\n",
        "\n",
        "def read_temperature_sensor():\n",
        "    \"\"\"\n",
        "    Simulates reading data from a temperature sensor.\n",
        "    Returns a random temperature value between 20 and 30 degrees Celsius.\n",
        "    \"\"\"\n",
        "    return round(random.uniform(20.0, 30.0), 2)\n",
        "\n",
        "# Test the sensor reading function\n",
        "print(f\"Current temperature: {read_temperature_sensor()} °C\")"
      ],
      "metadata": {
        "colab": {
          "base_uri": "https://localhost:8080/"
        },
        "id": "Q4mwb8UeGSLI",
        "outputId": "93c9d197-2904-4d58-9264-4018c50a1baf"
      },
      "execution_count": 2,
      "outputs": [
        {
          "output_type": "stream",
          "name": "stdout",
          "text": [
            "Current temperature: 23.33 °C\n"
          ]
        }
      ]
    },
    {
      "cell_type": "markdown",
      "source": [
        "# Sending Data to a Server"
      ],
      "metadata": {
        "id": "7oFfUeNGGSu9"
      }
    },
    {
      "cell_type": "code",
      "source": [
        "import json\n",
        "import requests  # Ensure you have the requests library installed\n",
        "\n",
        "def send_data_to_server(sensor_data):\n",
        "    \"\"\"\n",
        "    Simulates sending sensor data to a server.\n",
        "    \"\"\"\n",
        "    url = \"http://example.com/temperature\"  # Dummy URL\n",
        "    headers = {'Content-Type': 'application/json'}\n",
        "    try:\n",
        "        # Uncomment the line below if you have an actual server to send data to\n",
        "        # response = requests.post(url, headers=headers, data=json.dumps(sensor_data))\n",
        "        # print(f\"Data sent to server: {response.status_code}\")\n",
        "\n",
        "        # Simulate sending data by printing it\n",
        "        print(f\"Data sent to server: {json.dumps(sensor_data)}\")\n",
        "    except Exception as e:\n",
        "        print(f\"Failed to send data: {e}\")\n",
        "\n",
        "# Test sending data to the server\n",
        "sensor_data = {\n",
        "    \"temperature\": read_temperature_sensor(),\n",
        "    \"timestamp\": time.strftime('%Y-%m-%d %H:%M:%S')\n",
        "}\n",
        "send_data_to_server(sensor_data)"
      ],
      "metadata": {
        "colab": {
          "base_uri": "https://localhost:8080/"
        },
        "id": "zfHSThRtGfiF",
        "outputId": "2153bfd1-4f97-433a-db8c-73c7f0fbf615"
      },
      "execution_count": 3,
      "outputs": [
        {
          "output_type": "stream",
          "name": "stdout",
          "text": [
            "Data sent to server: {\"temperature\": 28.2, \"timestamp\": \"2024-07-18 04:29:26\"}\n"
          ]
        }
      ]
    },
    {
      "cell_type": "code",
      "source": [
        "def main():\n",
        "    while True:\n",
        "        # Read data from the sensor\n",
        "        temperature = read_temperature_sensor()\n",
        "        timestamp = time.strftime('%Y-%m-%d %H:%M:%S')\n",
        "\n",
        "        # Prepare the data to be sent\n",
        "        sensor_data = {\n",
        "            \"temperature\": temperature,\n",
        "            \"timestamp\": timestamp\n",
        "        }\n",
        "\n",
        "        # Send the data to the server\n",
        "        send_data_to_server(sensor_data)\n",
        "\n",
        "        # Wait for a specified interval before reading the sensor again\n",
        "        time.sleep(5)  # Sleep for 5 seconds\n",
        "\n",
        "if __name__ == \"__main__\":\n",
        "    main()"
      ],
      "metadata": {
        "colab": {
          "base_uri": "https://localhost:8080/",
          "height": 714
        },
        "id": "Lx1Z5srgGieV",
        "outputId": "d032e3e0-36e8-4615-ca6c-d522a93fe6ba"
      },
      "execution_count": 4,
      "outputs": [
        {
          "output_type": "stream",
          "name": "stdout",
          "text": [
            "Data sent to server: {\"temperature\": 24.96, \"timestamp\": \"2024-07-18 04:29:52\"}\n",
            "Data sent to server: {\"temperature\": 24.02, \"timestamp\": \"2024-07-18 04:29:57\"}\n",
            "Data sent to server: {\"temperature\": 23.5, \"timestamp\": \"2024-07-18 04:30:02\"}\n",
            "Data sent to server: {\"temperature\": 24.88, \"timestamp\": \"2024-07-18 04:30:07\"}\n",
            "Data sent to server: {\"temperature\": 25.24, \"timestamp\": \"2024-07-18 04:30:12\"}\n",
            "Data sent to server: {\"temperature\": 28.87, \"timestamp\": \"2024-07-18 04:30:17\"}\n",
            "Data sent to server: {\"temperature\": 29.27, \"timestamp\": \"2024-07-18 04:30:22\"}\n",
            "Data sent to server: {\"temperature\": 23.86, \"timestamp\": \"2024-07-18 04:30:27\"}\n",
            "Data sent to server: {\"temperature\": 29.5, \"timestamp\": \"2024-07-18 04:30:32\"}\n",
            "Data sent to server: {\"temperature\": 20.7, \"timestamp\": \"2024-07-18 04:30:37\"}\n",
            "Data sent to server: {\"temperature\": 22.84, \"timestamp\": \"2024-07-18 04:30:42\"}\n",
            "Data sent to server: {\"temperature\": 22.73, \"timestamp\": \"2024-07-18 04:30:47\"}\n",
            "Data sent to server: {\"temperature\": 29.88, \"timestamp\": \"2024-07-18 04:30:52\"}\n",
            "Data sent to server: {\"temperature\": 23.54, \"timestamp\": \"2024-07-18 04:30:57\"}\n",
            "Data sent to server: {\"temperature\": 25.63, \"timestamp\": \"2024-07-18 04:31:02\"}\n",
            "Data sent to server: {\"temperature\": 20.84, \"timestamp\": \"2024-07-18 04:31:07\"}\n",
            "Data sent to server: {\"temperature\": 29.56, \"timestamp\": \"2024-07-18 04:31:12\"}\n",
            "Data sent to server: {\"temperature\": 24.17, \"timestamp\": \"2024-07-18 04:31:17\"}\n",
            "Data sent to server: {\"temperature\": 29.86, \"timestamp\": \"2024-07-18 04:31:22\"}\n",
            "Data sent to server: {\"temperature\": 23.48, \"timestamp\": \"2024-07-18 04:31:27\"}\n",
            "Data sent to server: {\"temperature\": 23.74, \"timestamp\": \"2024-07-18 04:31:32\"}\n",
            "Data sent to server: {\"temperature\": 29.72, \"timestamp\": \"2024-07-18 04:31:37\"}\n",
            "Data sent to server: {\"temperature\": 22.16, \"timestamp\": \"2024-07-18 04:31:42\"}\n",
            "Data sent to server: {\"temperature\": 27.55, \"timestamp\": \"2024-07-18 04:31:47\"}\n"
          ]
        },
        {
          "output_type": "error",
          "ename": "KeyboardInterrupt",
          "evalue": "",
          "traceback": [
            "\u001b[0;31m---------------------------------------------------------------------------\u001b[0m",
            "\u001b[0;31mKeyboardInterrupt\u001b[0m                         Traceback (most recent call last)",
            "\u001b[0;32m<ipython-input-4-b9bfb292403c>\u001b[0m in \u001b[0;36m<cell line: 19>\u001b[0;34m()\u001b[0m\n\u001b[1;32m     18\u001b[0m \u001b[0;34m\u001b[0m\u001b[0m\n\u001b[1;32m     19\u001b[0m \u001b[0;32mif\u001b[0m \u001b[0m__name__\u001b[0m \u001b[0;34m==\u001b[0m \u001b[0;34m\"__main__\"\u001b[0m\u001b[0;34m:\u001b[0m\u001b[0;34m\u001b[0m\u001b[0;34m\u001b[0m\u001b[0m\n\u001b[0;32m---> 20\u001b[0;31m     \u001b[0mmain\u001b[0m\u001b[0;34m(\u001b[0m\u001b[0;34m)\u001b[0m\u001b[0;34m\u001b[0m\u001b[0;34m\u001b[0m\u001b[0m\n\u001b[0m",
            "\u001b[0;32m<ipython-input-4-b9bfb292403c>\u001b[0m in \u001b[0;36mmain\u001b[0;34m()\u001b[0m\n\u001b[1;32m     15\u001b[0m \u001b[0;34m\u001b[0m\u001b[0m\n\u001b[1;32m     16\u001b[0m         \u001b[0;31m# Wait for a specified interval before reading the sensor again\u001b[0m\u001b[0;34m\u001b[0m\u001b[0;34m\u001b[0m\u001b[0m\n\u001b[0;32m---> 17\u001b[0;31m         \u001b[0mtime\u001b[0m\u001b[0;34m.\u001b[0m\u001b[0msleep\u001b[0m\u001b[0;34m(\u001b[0m\u001b[0;36m5\u001b[0m\u001b[0;34m)\u001b[0m  \u001b[0;31m# Sleep for 5 seconds\u001b[0m\u001b[0;34m\u001b[0m\u001b[0;34m\u001b[0m\u001b[0m\n\u001b[0m\u001b[1;32m     18\u001b[0m \u001b[0;34m\u001b[0m\u001b[0m\n\u001b[1;32m     19\u001b[0m \u001b[0;32mif\u001b[0m \u001b[0m__name__\u001b[0m \u001b[0;34m==\u001b[0m \u001b[0;34m\"__main__\"\u001b[0m\u001b[0;34m:\u001b[0m\u001b[0;34m\u001b[0m\u001b[0;34m\u001b[0m\u001b[0m\n",
            "\u001b[0;31mKeyboardInterrupt\u001b[0m: "
          ]
        }
      ]
    },
    {
      "cell_type": "code",
      "source": [],
      "metadata": {
        "id": "y6huuhc7Go6w"
      },
      "execution_count": null,
      "outputs": []
    }
  ]
}